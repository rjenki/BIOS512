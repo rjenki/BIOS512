{
 "cells": [
  {
   "cell_type": "markdown",
   "id": "52d63a37-a0e0-4ad7-a8ae-18de65b296eb",
   "metadata": {},
   "source": [
    "I've spent a lot of time looking at the course notes and I've decided to deviate a little from the previous structure of the course here. The reason is that we can't really talk about ggplot without having some basic mastery of manipulating tabular data.\n",
    "\n",
    "A brief philosophical note"
   ]
  }
 ],
 "metadata": {
  "kernelspec": {
   "display_name": "R",
   "language": "R",
   "name": "ir"
  },
  "language_info": {
   "codemirror_mode": "r",
   "file_extension": ".r",
   "mimetype": "text/x-r-source",
   "name": "R",
   "pygments_lexer": "r",
   "version": "4.1.2"
  }
 },
 "nbformat": 4,
 "nbformat_minor": 5
}
